x = {1, 4, 3}
y = { 2,3,5}
print(x.intersection(y))