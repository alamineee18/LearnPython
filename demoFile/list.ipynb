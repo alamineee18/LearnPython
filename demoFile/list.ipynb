{
 "cells": [
  {
   "cell_type": "markdown",
   "id": "518907c6",
   "metadata": {},
   "source": [
    "Python list is here\n"
   ]
  },
  {
   "cell_type": "code",
   "execution_count": null,
   "id": "3269c933",
   "metadata": {},
   "outputs": [],
   "source": [
    "x = [1, 2, 3]\n",
    "print(x)\n",
    "print(type(x))"
   ]
  },
  {
   "cell_type": "code",
   "execution_count": null,
   "id": "115b435e",
   "metadata": {},
   "outputs": [],
   "source": [
    "x = (1, 2, 3)\n",
    "print(len(x))"
   ]
  },
  {
   "cell_type": "code",
   "execution_count": 2,
   "id": "d9095135",
   "metadata": {},
   "outputs": [
    {
     "name": "stdout",
     "output_type": "stream",
     "text": [
      "(1, 2, 3)\n"
     ]
    }
   ],
   "source": [
    "x = (1, 2,3,4,5)\n",
    "print(x[:3])"
   ]
  },
  {
   "cell_type": "code",
   "execution_count": null,
   "id": "95b1f8cc",
   "metadata": {},
   "outputs": [],
   "source": [
    "# Creating a simple list\n",
    "my_list = [10, 20, 30, 40, 50]\n",
    "print(my_list)\n",
    "print(type(my_list))\n",
    "print(\"Length of the list:\", len(my_list))"
   ]
  },
  {
   "cell_type": "code",
   "execution_count": null,
   "id": "687299ca",
   "metadata": {},
   "outputs": [],
   "source": []
  }
 ],
 "metadata": {
  "kernelspec": {
   "display_name": "Python 3",
   "language": "python",
   "name": "python3"
  },
  "language_info": {
   "codemirror_mode": {
    "name": "ipython",
    "version": 3
   },
   "file_extension": ".py",
   "mimetype": "text/x-python",
   "name": "python",
   "nbconvert_exporter": "python",
   "pygments_lexer": "ipython3",
   "version": "3.13.3"
  }
 },
 "nbformat": 4,
 "nbformat_minor": 5
}
