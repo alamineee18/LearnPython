{
 "cells": [
  {
   "cell_type": "markdown",
   "metadata": {},
   "source": [
    "L 9 OOp"
   ]
  },
  {
   "cell_type": "code",
   "execution_count": null,
   "metadata": {},
   "outputs": [
    {
     "name": "stdout",
     "output_type": "stream",
     "text": [
      "Book Name:  Opekkha \n",
      "Author: Humayan Ahmed \n",
      "Price: 0 Taka\n",
      "Book Name:  Opekkha \n",
      "Author: Humayan Ahmed \n",
      "Price: 255 Taka\n"
     ]
    }
   ],
   "source": [
    "import book as bk\n",
    "\n",
    "#===================================================================\n",
    "b1 = bk.Book(\"Opekkha\", \"Humayan Ahmed\")\n",
    "b1.details()\n",
    "\n",
    "b1.set_price(255)\n",
    "b1.details()\n",
    "#print(b1.get_price())"
   ]
  },
  {
   "cell_type": "code",
   "execution_count": null,
   "metadata": {},
   "outputs": [],
   "source": []
  }
 ],
 "metadata": {
  "kernelspec": {
   "display_name": "Python 3",
   "language": "python",
   "name": "python3"
  },
  "language_info": {
   "codemirror_mode": {
    "name": "ipython",
    "version": 3
   },
   "file_extension": ".py",
   "mimetype": "text/x-python",
   "name": "python",
   "nbconvert_exporter": "python",
   "pygments_lexer": "ipython3",
   "version": "3.12.5"
  }
 },
 "nbformat": 4,
 "nbformat_minor": 2
}
