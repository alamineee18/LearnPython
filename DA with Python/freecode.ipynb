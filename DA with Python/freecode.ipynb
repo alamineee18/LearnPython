{
 "cells": [
  {
   "cell_type": "markdown",
   "id": "1f40af2b",
   "metadata": {},
   "source": [
    "This Coure I will learn DA with Python. "
   ]
  },
  {
   "cell_type": "markdown",
   "id": "68e53aff",
   "metadata": {},
   "source": [
    "Variable"
   ]
  },
  {
   "cell_type": "code",
   "execution_count": 1,
   "id": "f06e2c49",
   "metadata": {},
   "outputs": [
    {
     "name": "stdout",
     "output_type": "stream",
     "text": [
      "1.25\n"
     ]
    }
   ],
   "source": [
    "cost_of_ice_bag = 1.25\n",
    "print(cost_of_ice_bag)"
   ]
  },
  {
   "cell_type": "code",
   "execution_count": 2,
   "id": "3e1ef88a",
   "metadata": {},
   "outputs": [
    {
     "name": "stdout",
     "output_type": "stream",
     "text": [
      "False\n"
     ]
    }
   ],
   "source": [
    "my_favorite = 7\n",
    "print(my_favorite < 0)"
   ]
  }
 ],
 "metadata": {
  "kernelspec": {
   "display_name": "Python 3",
   "language": "python",
   "name": "python3"
  },
  "language_info": {
   "codemirror_mode": {
    "name": "ipython",
    "version": 3
   },
   "file_extension": ".py",
   "mimetype": "text/x-python",
   "name": "python",
   "nbconvert_exporter": "python",
   "pygments_lexer": "ipython3",
   "version": "3.13.3"
  }
 },
 "nbformat": 4,
 "nbformat_minor": 5
}
