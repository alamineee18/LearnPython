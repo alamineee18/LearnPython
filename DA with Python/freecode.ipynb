{
 "cells": [
  {
   "cell_type": "markdown",
   "id": "1f40af2b",
   "metadata": {},
   "source": [
    "This Coure I will learn DA with Python. "
   ]
  },
  {
   "cell_type": "markdown",
   "id": "68e53aff",
   "metadata": {},
   "source": [
    "Variable"
   ]
  },
  {
   "cell_type": "code",
   "execution_count": 3,
   "id": "f06e2c49",
   "metadata": {},
   "outputs": [
    {
     "name": "stdout",
     "output_type": "stream",
     "text": [
      "1.25\n"
     ]
    }
   ],
   "source": [
    "cost_of_ice_bag = 1.25\n",
    "print(cost_of_ice_bag)"
   ]
  },
  {
   "cell_type": "code",
   "execution_count": 4,
   "id": "3e1ef88a",
   "metadata": {},
   "outputs": [
    {
     "name": "stdout",
     "output_type": "stream",
     "text": [
      "False\n"
     ]
    }
   ],
   "source": [
    "my_favorite = 7\n",
    "print(my_favorite < 0)"
   ]
  },
  {
   "cell_type": "code",
   "execution_count": 5,
   "id": "c96942e0",
   "metadata": {},
   "outputs": [
    {
     "name": "stdout",
     "output_type": "stream",
     "text": [
      "The key 'd' does not exist in the dictionary.\n"
     ]
    }
   ],
   "source": [
    "# Dictionary of items\n",
    "my_dict = {\"name\": \"Alice\", \"age\": 25, \"city\": \"New York\"}\n",
    "\n",
    "# Input from the user\n",
    "key = input(\"Enter a key to check: \")\n",
    "\n",
    "# Check if the key exists\n",
    "if key in my_dict:\n",
    "    print(f\"The key '{key}' exists in the dictionary.\")\n",
    "else:\n",
    "    print(f\"The key '{key}' does not exist in the dictionary.\")\n"
   ]
  },
  {
   "cell_type": "code",
   "execution_count": null,
   "id": "c7450fd0",
   "metadata": {},
   "outputs": [],
   "source": [
    "# Input from the user\n",
    "num = int(input(\"Enter a number: \"))\n",
    "\n",
    "# Check if the number is even or odd\n",
    "if num % 2 == 0:\n",
    "    print(f\"{num} is even.\")\n",
    "else:\n",
    "    print(f\"{num} is odd.\")\n"
   ]
  },
  {
   "cell_type": "code",
   "execution_count": null,
   "id": "9ff773e4",
   "metadata": {},
   "outputs": [],
   "source": [
    "# Input from the user\n",
    "num = int(input(\"Enter a number: \"))\n",
    "\n",
    "# Categorize the number\n",
    "if num < 0:\n",
    "    print(f\"The number {num} is negative.\")\n",
    "elif num == 0:\n",
    "    print(\"The number is zero.\")\n",
    "else:\n",
    "    print(f\"The number {num} is positive.\")\n",
    "\n"
   ]
  }
 ],
 "metadata": {
  "kernelspec": {
   "display_name": "Python 3",
   "language": "python",
   "name": "python3"
  },
  "language_info": {
   "codemirror_mode": {
    "name": "ipython",
    "version": 3
   },
   "file_extension": ".py",
   "mimetype": "text/x-python",
   "name": "python",
   "nbconvert_exporter": "python",
   "pygments_lexer": "ipython3",
   "version": "3.13.3"
  }
 },
 "nbformat": 4,
 "nbformat_minor": 5
}
